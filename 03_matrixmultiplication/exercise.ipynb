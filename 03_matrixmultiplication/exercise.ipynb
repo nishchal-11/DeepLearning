{
 "cells": [
  {
   "cell_type": "code",
   "execution_count": 2,
   "id": "25e25fa8",
   "metadata": {},
   "outputs": [],
   "source": [
    "import numpy as np"
   ]
  },
  {
   "cell_type": "code",
   "execution_count": 3,
   "id": "ebcd365b",
   "metadata": {},
   "outputs": [],
   "source": [
    "revenue=np.array([[200,220,250],[68,79,105],[110,140,1880],[80,85,90]])\n",
    "convert=75*revenue"
   ]
  },
  {
   "cell_type": "code",
   "execution_count": 4,
   "id": "167cda2f",
   "metadata": {},
   "outputs": [
    {
     "data": {
      "text/plain": [
       "array([[ 15000,  16500,  18750],\n",
       "       [  5100,   5925,   7875],\n",
       "       [  8250,  10500, 141000],\n",
       "       [  6000,   6375,   6750]])"
      ]
     },
     "execution_count": 4,
     "metadata": {},
     "output_type": "execute_result"
    }
   ],
   "source": [
    "convert"
   ]
  },
  {
   "cell_type": "code",
   "execution_count": 5,
   "id": "0432740d",
   "metadata": {},
   "outputs": [
    {
     "data": {
      "text/plain": [
       "array([1900, 2640, 1430])"
      ]
     },
     "execution_count": 5,
     "metadata": {},
     "output_type": "execute_result"
    }
   ],
   "source": [
    "price_per_unit=np.array([20,30,15])\n",
    "units=np.array([[50,60,25],[10,13,5],[40,70,52]])\n",
    "np.dot(price_per_unit,units)"
   ]
  },
  {
   "cell_type": "code",
   "execution_count": null,
   "id": "9a5b9814",
   "metadata": {},
   "outputs": [],
   "source": []
  }
 ],
 "metadata": {
  "kernelspec": {
   "display_name": "pygpu",
   "language": "python",
   "name": "python3"
  },
  "language_info": {
   "codemirror_mode": {
    "name": "ipython",
    "version": 3
   },
   "file_extension": ".py",
   "mimetype": "text/x-python",
   "name": "python",
   "nbconvert_exporter": "python",
   "pygments_lexer": "ipython3",
   "version": "3.9.23"
  }
 },
 "nbformat": 4,
 "nbformat_minor": 5
}
